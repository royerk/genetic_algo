{
 "cells": [
  {
   "cell_type": "code",
   "execution_count": 1,
   "metadata": {},
   "outputs": [],
   "source": [
    "%load_ext autoreload\n",
    "%autoreload 2"
   ]
  },
  {
   "cell_type": "code",
   "execution_count": 2,
   "metadata": {},
   "outputs": [],
   "source": [
    "from ga import Solution, Population"
   ]
  },
  {
   "cell_type": "markdown",
   "metadata": {},
   "source": [
    "# Genetic Algorithm, applied to game AI"
   ]
  },
  {
   "cell_type": "markdown",
   "metadata": {},
   "source": [
    "## Genetic Algorithm (GA)"
   ]
  },
  {
   "cell_type": "markdown",
   "metadata": {},
   "source": [
    "### A Hello World"
   ]
  },
  {
   "cell_type": "markdown",
   "metadata": {},
   "source": [
    "Dummy problem:\n",
    "* Find 3 float: f0, f1, f2 (all > 0)\n",
    "* f0 + f1 + f2 has to be close to 10,000\n",
    "* f1 > f2\n",
    "* f0 has to be close to the square value of an integer and greater than the square value"
   ]
  },
  {
   "cell_type": "markdown",
   "metadata": {},
   "source": [
    "Inspired from natural evolution:\n",
    "* A solution = set of genes"
   ]
  },
  {
   "cell_type": "code",
   "execution_count": null,
   "metadata": {},
   "outputs": [],
   "source": [
    "class Solution:\n",
    "    def __init__(self, limit=10000):\n",
    "        self.f0 = random() * limit\n",
    "        self.f1 = random() * limit\n",
    "        self.f2 = random() * limit\n",
    "        self.generation = 0\n",
    "        self.score = None"
   ]
  },
  {
   "cell_type": "markdown",
   "metadata": {},
   "source": [
    "* Evaluate how fit is the solution to the problem"
   ]
  },
  {
   "cell_type": "code",
   "execution_count": null,
   "metadata": {},
   "outputs": [],
   "source": [
    "    def evaluate(self):\n",
    "        s = self.f0 + self.f1 + self.f2                 # f0 + f1 + f2 has to be close to 10,000\n",
    "        delta = self.f1 - self.f2                       # f1 > f2\n",
    "        delta_square = self.f0 - int(sqrt(self.f0))**2  # eg: f0 = 95, int(sqrt(f0))~ int(9.7) = 9, 95-9x9 = 14 \n",
    "        \n",
    "        score = - abs(10000 - s) * 10      # has to be close to 0\n",
    "        score += 1000 if delta > 0 else 0  # bonus if f1 > f2\n",
    "        score += - delta_square / 1000     # has to be close to 0, but not super important\n",
    "        \n",
    "        self.score = score"
   ]
  },
  {
   "cell_type": "markdown",
   "metadata": {},
   "source": [
    "* Keep the best ones (survival of the fittest)\n",
    "* Recreate a full population from the best solutions:\n",
    "    * Clone and mutate a solution\n",
    "    "
   ]
  },
  {
   "cell_type": "code",
   "execution_count": null,
   "metadata": {},
   "outputs": [],
   "source": [
    "    def clone_and_mutate(self, generation):\n",
    "        new_solution = Solution()\n",
    "        new_solution.f0 = self.f0\n",
    "        new_solution.f1 = self.f1\n",
    "        new_solution.f2 = self.f2\n",
    "        \n",
    "        random_index = randint(0,2)\n",
    "        if random_index == 0:\n",
    "            new_solution.f0 = normal(new_solution.f0, new_solution.f0 * 0.2)\n",
    "        elif random_index == 1:\n",
    "            new_solution.f1 = random()*10000\n",
    "        else:\n",
    "            new_solution.f2 += max(0, random() * 1000 - 500)\n",
    "        \n",
    "        new_solution.generation = generation\n",
    "        \n",
    "        return new_solution"
   ]
  },
  {
   "cell_type": "markdown",
   "metadata": {},
   "source": [
    "    * Cross breed 2 solutions"
   ]
  },
  {
   "cell_type": "code",
   "execution_count": null,
   "metadata": {},
   "outputs": [],
   "source": [
    "    def cross(self, another_solution, generation):\n",
    "        new_solution = Solution()\n",
    "        new_solution.f0 = self.f0              # f0 from first parent\n",
    "        new_solution.f1 = another_solution.f1  # f1 and f2 from second parent\n",
    "        new_solution.f2 = another_solution.f2\n",
    "        \n",
    "        new_solution.generation = generation\n",
    "        \n",
    "        return new_solution"
   ]
  },
  {
   "cell_type": "markdown",
   "metadata": {},
   "source": [
    "Test:"
   ]
  },
  {
   "cell_type": "code",
   "execution_count": 3,
   "metadata": {
    "scrolled": true
   },
   "outputs": [
    {
     "name": "stdout",
     "output_type": "stream",
     "text": [
      "score: NA, f0: 64.375 f1: 53.532 f2: 44.626, sum=162.533, f1 > f2? True, f0 ~ 8**2 = 64, gen: 0\n"
     ]
    }
   ],
   "source": [
    "s0 = Solution(limit=100)\n",
    "s0.print()\n",
    "s0.evaluate()"
   ]
  },
  {
   "cell_type": "markdown",
   "metadata": {},
   "source": [
    "* Generate a population of solutions for the problem"
   ]
  },
  {
   "cell_type": "code",
   "execution_count": null,
   "metadata": {},
   "outputs": [],
   "source": [
    "class Population:\n",
    "    def __init__(self, n_solutions, n_keep_best, limit=10000):\n",
    "        self.n_solutions = n_solutions\n",
    "        self.n_keep_best = n_keep_best\n",
    "        \n",
    "        self.solutions = [Solution(limit=limit) for i in range(self.n_solutions)]\n",
    "        self.generations = 0        "
   ]
  },
  {
   "cell_type": "markdown",
   "metadata": {},
   "source": [
    "* Iterate once:"
   ]
  },
  {
   "cell_type": "code",
   "execution_count": null,
   "metadata": {},
   "outputs": [],
   "source": [
    "    def iterate(self):\n",
    "        self.generations += 1\n",
    "        \n",
    "        # EVALUTATE\n",
    "        for solution in self.solutions:\n",
    "            solution.evaluate()\n",
    "            \n",
    "        # KEEP BEST\n",
    "        self.solutions.sort(key=lambda x: x.score, reverse=True)\n",
    "        self.solutions = self.solutions[:self.n_keep_best]\n",
    "\n",
    "        # print the new best solution if any\n",
    "        if self.solutions[0].generation == self.generations-1:\n",
    "            self.solutions[0].print()\n",
    "        \n",
    "        # REPRODUCTION\n",
    "        # one mutant clone of each best solution\n",
    "        self.solutions.extend([solution.clone_and_mutate(self.generations) for solution in self.solutions])\n",
    "        \n",
    "        # crossing, uniform random parents selection\n",
    "        while len(self.solutions) < self.n_solutions:\n",
    "            first_parent_index = randint(0, self.n_keep_best-1)\n",
    "            second_parent_index = randint(0, self.n_keep_best-1)\n",
    "            while first_parent_index == second_parent_index:\n",
    "                second_parent_index = randint(0, self.n_keep_best-1)\n",
    "                \n",
    "            self.solutions.append(\n",
    "                self.solutions[first_parent_index].cross(\n",
    "                    self.solutions[second_parent_index], self.generations)\n",
    "            )"
   ]
  },
  {
   "cell_type": "markdown",
   "metadata": {},
   "source": [
    "* Rinse and repeat:"
   ]
  },
  {
   "cell_type": "code",
   "execution_count": null,
   "metadata": {},
   "outputs": [],
   "source": [
    "    def evolution(self, max_generation):\n",
    "        generation = 0\n",
    "        while generation < max_generation:\n",
    "            generation += 1\n",
    "            self.iterate()"
   ]
  },
  {
   "cell_type": "markdown",
   "metadata": {},
   "source": [
    "### Examples"
   ]
  },
  {
   "cell_type": "markdown",
   "metadata": {},
   "source": [
    "* 200 solutions\n",
    "* keep top 50 after each iteration\n",
    "* initial fi < 1000\n",
    "* 100 generations"
   ]
  },
  {
   "cell_type": "code",
   "execution_count": 4,
   "metadata": {},
   "outputs": [
    {
     "name": "stdout",
     "output_type": "stream",
     "text": [
      "score: -373.374, f0: 5555.712 f1: 2907.570 f2: 1674.048, sum=10137.329, f1 > f2? True, f0 ~ 74**2 = 5476, gen: 0\n",
      "score: 155.347, f0: 5244.008 f1: 2907.570 f2: 1763.963, sum=9915.541, f1 > f2? True, f0 ~ 72**2 = 5184, gen: 8\n",
      "score: 339.504, f0: 5244.008 f1: 2925.985 f2: 1763.963, sum=9933.956, f1 > f2? True, f0 ~ 72**2 = 5184, gen: 13\n",
      "score: 778.250, f0: 5332.226 f1: 2925.985 f2: 1763.963, sum=10022.175, f1 > f2? True, f0 ~ 73**2 = 5329, gen: 18\n",
      "score: 957.512, f0: 5314.287 f1: 2925.985 f2: 1763.963, sum=10004.236, f1 > f2? True, f0 ~ 72**2 = 5184, gen: 55\n",
      "score: 992.312, f0: 5309.295 f1: 2925.985 f2: 1763.963, sum=9999.244, f1 > f2? True, f0 ~ 72**2 = 5184, gen: 92\n",
      "score: 997.505, f0: 5309.295 f1: 2925.985 f2: 1764.482, sum=9999.763, f1 > f2? True, f0 ~ 72**2 = 5184, gen: 427\n",
      "score: 999.294, f0: 5309.590 f1: 2925.985 f2: 1764.482, sum=10000.058, f1 > f2? True, f0 ~ 72**2 = 5184, gen: 602\n",
      "score: 999.826, f0: 5309.537 f1: 2925.985 f2: 1764.482, sum=10000.005, f1 > f2? True, f0 ~ 72**2 = 5184, gen: 6507\n"
     ]
    }
   ],
   "source": [
    "population = Population(20, 5, limit=10000)\n",
    "population.evolution(10000)"
   ]
  },
  {
   "cell_type": "code",
   "execution_count": 5,
   "metadata": {},
   "outputs": [
    {
     "name": "stdout",
     "output_type": "stream",
     "text": [
      "score: 336.893, f0: 350.006 f1: 6178.974 f2: 3537.328, sum=10066.308, f1 > f2? True, f0 ~ 18**2 = 324, gen: 0\n",
      "score: 995.476, f0: 284.148 f1: 6178.974 f2: 3537.328, sum=10000.450, f1 > f2? True, f0 ~ 16**2 = 256, gen: 1\n",
      "score: 998.382, f0: 283.539 f1: 6178.974 f2: 3537.328, sum=9999.841, f1 > f2? True, f0 ~ 16**2 = 256, gen: 31\n",
      "score: 999.583, f0: 283.737 f1: 6178.974 f2: 3537.328, sum=10000.039, f1 > f2? True, f0 ~ 16**2 = 256, gen: 49\n",
      "score: 999.844, f0: 283.711 f1: 6178.974 f2: 3537.328, sum=10000.013, f1 > f2? True, f0 ~ 16**2 = 256, gen: 428\n",
      "score: 999.875, f0: 283.689 f1: 6178.974 f2: 3537.328, sum=9999.990, f1 > f2? True, f0 ~ 16**2 = 256, gen: 874\n",
      "score: 999.917, f0: 283.689 f1: 6178.974 f2: 3537.332, sum=9999.994, f1 > f2? True, f0 ~ 16**2 = 256, gen: 929\n",
      "score: 999.920, f0: 283.689 f1: 6178.974 f2: 3537.332, sum=9999.995, f1 > f2? True, f0 ~ 16**2 = 256, gen: 994\n",
      "score: 999.948, f0: 283.689 f1: 6178.976 f2: 3537.332, sum=9999.998, f1 > f2? True, f0 ~ 16**2 = 256, gen: 1260\n",
      "score: 999.957, f0: 283.693 f1: 6178.976 f2: 3537.332, sum=10000.002, f1 > f2? True, f0 ~ 16**2 = 256, gen: 1972\n",
      "score: 999.971, f0: 283.691 f1: 6178.976 f2: 3537.332, sum=10000.000, f1 > f2? True, f0 ~ 16**2 = 256, gen: 4882\n"
     ]
    }
   ],
   "source": [
    "population = Population(200, 50, limit=10000)\n",
    "population.evolution(10000)"
   ]
  },
  {
   "cell_type": "code",
   "execution_count": 6,
   "metadata": {
    "scrolled": true
   },
   "outputs": [
    {
     "name": "stdout",
     "output_type": "stream",
     "text": [
      "score: 715.475, f0: 2889.171 f1: 3959.668 f2: 3122.717, sum=9971.556, f1 > f2? True, f0 ~ 53**2 = 2809, gen: 0\n",
      "score: 921.953, f0: 1614.193 f1: 6208.556 f2: 2169.448, sum=9992.197, f1 > f2? True, f0 ~ 40**2 = 1600, gen: 1\n",
      "score: 995.226, f0: 3401.285 f1: 5400.072 f2: 1199.117, sum=10000.474, f1 > f2? True, f0 ~ 58**2 = 3364, gen: 2\n",
      "score: 999.443, f0: 81.829 f1: 7348.705 f2: 2569.411, sum=9999.944, f1 > f2? True, f0 ~ 9**2 = 81, gen: 13\n",
      "score: 999.760, f0: 81.908 f1: 7348.705 f2: 2569.411, sum=10000.024, f1 > f2? True, f0 ~ 9**2 = 81, gen: 21\n",
      "score: 999.995, f0: 81.885 f1: 7348.705 f2: 2569.411, sum=10000.000, f1 > f2? True, f0 ~ 9**2 = 81, gen: 35\n",
      "score: 999.997, f0: 81.884 f1: 7348.705 f2: 2569.411, sum=10000.000, f1 > f2? True, f0 ~ 9**2 = 81, gen: 1091\n",
      "score: 999.998, f0: 81.884 f1: 7348.705 f2: 2569.411, sum=10000.000, f1 > f2? True, f0 ~ 9**2 = 81, gen: 3463\n",
      "score: 999.998, f0: 81.884 f1: 7348.705 f2: 2569.411, sum=10000.000, f1 > f2? True, f0 ~ 9**2 = 81, gen: 4243\n"
     ]
    }
   ],
   "source": [
    "population = Population(1000, 200, limit=10000)\n",
    "population.evolution(10000)"
   ]
  },
  {
   "cell_type": "markdown",
   "metadata": {},
   "source": [
    "/!\\ Beware of demo effect /!\\ , change evaluation function before running."
   ]
  },
  {
   "cell_type": "code",
   "execution_count": null,
   "metadata": {
    "scrolled": true
   },
   "outputs": [],
   "source": [
    "population = Population(1000, 200, limit=10000)\n",
    "population.evolution(10000)"
   ]
  },
  {
   "cell_type": "markdown",
   "metadata": {},
   "source": [
    "## Game\n",
    "\n",
    "Code Versus Zombies\n",
    "\n",
    "Coder Strike Back"
   ]
  },
  {
   "cell_type": "markdown",
   "metadata": {},
   "source": [
    "## Parameters\n",
    "\n",
    "* Evaluation function\n",
    "* Number of generations (exploitation) vs population size (exploration)\n",
    "* Reproduction strategies:\n",
    "    * cloning and mutation, mostly when the sequence is important\n",
    "    * cross breeding:\n",
    "        * choose parents randomly\n",
    "        * being a parent depend on score or rank\n",
    "        * ...\n",
    "    * ..."
   ]
  },
  {
   "cell_type": "markdown",
   "metadata": {},
   "source": [
    "## When is it useful\n",
    "\n",
    "* Easily generate random solutions\n",
    "* Test and evolve hyper parameters (this why is belongs to *meta heuristics*)\n",
    "* When a greedy search is too expensive\n",
    "* Since it's a last resort solution it will certainly be slow\n"
   ]
  },
  {
   "cell_type": "code",
   "execution_count": null,
   "metadata": {},
   "outputs": [],
   "source": []
  }
 ],
 "metadata": {
  "kernelspec": {
   "display_name": "Python 3",
   "language": "python",
   "name": "python3"
  },
  "language_info": {
   "codemirror_mode": {
    "name": "ipython",
    "version": 3
   },
   "file_extension": ".py",
   "mimetype": "text/x-python",
   "name": "python",
   "nbconvert_exporter": "python",
   "pygments_lexer": "ipython3",
   "version": "3.6.6"
  }
 },
 "nbformat": 4,
 "nbformat_minor": 2
}
