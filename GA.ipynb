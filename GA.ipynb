{
 "cells": [
  {
   "cell_type": "code",
   "execution_count": 1,
   "metadata": {},
   "outputs": [],
   "source": [
    "# %load_ext autoreload\n",
    "# %autoreload 2"
   ]
  },
  {
   "cell_type": "code",
   "execution_count": 2,
   "metadata": {},
   "outputs": [],
   "source": [
    "from ga import Solution, Population"
   ]
  },
  {
   "cell_type": "markdown",
   "metadata": {},
   "source": [
    "# Genetic Algorithm, applied to game AI"
   ]
  },
  {
   "cell_type": "markdown",
   "metadata": {},
   "source": [
    "## Genetic Algorithm (GA)"
   ]
  },
  {
   "cell_type": "markdown",
   "metadata": {},
   "source": [
    "### A Hello World"
   ]
  },
  {
   "cell_type": "markdown",
   "metadata": {},
   "source": [
    "Dummy problem:\n",
    "* Find 3 float: f0, f1, f2 (all > 0)\n",
    "* f0 + f1 + f2 has to be close to 10,000\n",
    "* f1 > f2\n",
    "* f0 has to be close to the square value of an integer and greater than the square value"
   ]
  },
  {
   "cell_type": "markdown",
   "metadata": {},
   "source": [
    "Inspired from natural evolution:\n",
    "* A solution = set of genes"
   ]
  },
  {
   "cell_type": "raw",
   "metadata": {},
   "source": [
    "class Solution:\n",
    "    def __init__(self, limit=10000):\n",
    "        self.f0 = random() * limit\n",
    "        self.f1 = random() * limit\n",
    "        self.f2 = random() * limit\n",
    "        self.generation = 0\n",
    "        self.score = None"
   ]
  },
  {
   "cell_type": "markdown",
   "metadata": {},
   "source": [
    "* Evaluate how fit is the solution to the problem"
   ]
  },
  {
   "cell_type": "raw",
   "metadata": {},
   "source": [
    "    def evaluate(self):\n",
    "        s = self.f0 + self.f1 + self.f2                 # f0 + f1 + f2 has to be close to 10,000\n",
    "        delta = self.f1 - self.f2                       # f1 > f2\n",
    "        delta_square = self.f0 - int(sqrt(self.f0))**2  # eg: f0 = 95, int(sqrt(f0))~ int(9.7) = 9, 95-9x9 = 14 \n",
    "        \n",
    "        score = - abs(10000 - s) * 10      # has to be close to 0\n",
    "        score += 1000 if delta > 0 else 0  # bonus if f1 > f2\n",
    "        score += - delta_square / 1000     # has to be close to 0, but not super important\n",
    "        \n",
    "        self.score = score"
   ]
  },
  {
   "cell_type": "markdown",
   "metadata": {},
   "source": [
    "* Keep the best ones (survival of the fittest)\n",
    "* Recreate a full population from the best solutions:\n",
    "    * Clone and mutate a solution\n",
    "    "
   ]
  },
  {
   "cell_type": "raw",
   "metadata": {},
   "source": [
    "    def clone_and_mutate(self, generation):\n",
    "        new_solution = Solution()\n",
    "        new_solution.f0 = self.f0\n",
    "        new_solution.f1 = self.f1\n",
    "        new_solution.f2 = self.f2\n",
    "        \n",
    "        random_index = randint(0,2)\n",
    "        if random_index == 0:\n",
    "            new_solution.f0 = normal(new_solution.f0, new_solution.f0 * 0.2)\n",
    "        elif random_index == 1:\n",
    "            new_solution.f1 = random()*10000\n",
    "        else:\n",
    "            new_solution.f2 += max(0, random() * 1000 - 500)\n",
    "        \n",
    "        new_solution.generation = generation\n",
    "        \n",
    "        return new_solution"
   ]
  },
  {
   "cell_type": "markdown",
   "metadata": {},
   "source": [
    "    * Cross breed 2 solutions"
   ]
  },
  {
   "cell_type": "raw",
   "metadata": {},
   "source": [
    "    def cross(self, another_solution, generation):\n",
    "        new_solution = Solution()\n",
    "        new_solution.f0 = self.f0              # f0 from first parent\n",
    "        new_solution.f1 = another_solution.f1  # f1 and f2 from second parent\n",
    "        new_solution.f2 = another_solution.f2\n",
    "        \n",
    "        new_solution.generation = generation\n",
    "        \n",
    "        return new_solution"
   ]
  },
  {
   "cell_type": "markdown",
   "metadata": {},
   "source": [
    "Test:"
   ]
  },
  {
   "cell_type": "code",
   "execution_count": 3,
   "metadata": {
    "scrolled": true
   },
   "outputs": [
    {
     "name": "stdout",
     "output_type": "stream",
     "text": [
      "score: NA, f0: 25.532 f1: 51.774 f2: 18.922, sum=96.229, f1 > f2? True, f0 ~ 5**2 = 25, gen: 0\n"
     ]
    }
   ],
   "source": [
    "s0 = Solution(limit=100)\n",
    "s0.print()\n",
    "s0.evaluate()"
   ]
  },
  {
   "cell_type": "markdown",
   "metadata": {},
   "source": [
    "* Generate a population of solutions for the problem"
   ]
  },
  {
   "cell_type": "raw",
   "metadata": {},
   "source": [
    "class Population:\n",
    "    def __init__(self, n_solutions, n_keep_best, limit=10000):\n",
    "        self.n_solutions = n_solutions\n",
    "        self.n_keep_best = n_keep_best\n",
    "        \n",
    "        self.solutions = [Solution(limit=limit) for i in range(self.n_solutions)]\n",
    "        self.generations = 0        "
   ]
  },
  {
   "cell_type": "markdown",
   "metadata": {},
   "source": [
    "* Iterate once:"
   ]
  },
  {
   "cell_type": "raw",
   "metadata": {},
   "source": [
    "    def iterate(self):\n",
    "        self.generations += 1\n",
    "        \n",
    "        # EVALUTATE\n",
    "        for solution in self.solutions:\n",
    "            solution.evaluate()\n",
    "            \n",
    "        # KEEP BEST\n",
    "        self.solutions.sort(key=lambda x: x.score, reverse=True)\n",
    "        self.solutions = self.solutions[:self.n_keep_best]\n",
    "\n",
    "        # print the new best solution if any\n",
    "        if self.solutions[0].generation == self.generations-1:\n",
    "            self.solutions[0].print()\n",
    "        \n",
    "        # REPRODUCTION\n",
    "        # one mutant clone of each best solution\n",
    "        self.solutions.extend([solution.clone_and_mutate(self.generations) for solution in self.solutions])\n",
    "        \n",
    "        # crossing, uniform random parents selection\n",
    "        while len(self.solutions) < self.n_solutions:\n",
    "            first_parent_index = randint(0, self.n_keep_best-1)\n",
    "            second_parent_index = randint(0, self.n_keep_best-1)\n",
    "            while first_parent_index == second_parent_index:\n",
    "                second_parent_index = randint(0, self.n_keep_best-1)\n",
    "                \n",
    "            self.solutions.append(\n",
    "                self.solutions[first_parent_index].cross(\n",
    "                    self.solutions[second_parent_index], self.generations)\n",
    "            )"
   ]
  },
  {
   "cell_type": "markdown",
   "metadata": {},
   "source": [
    "* Rinse and repeat:"
   ]
  },
  {
   "cell_type": "raw",
   "metadata": {},
   "source": [
    "    def evolution(self, max_generation):\n",
    "        generation = 0\n",
    "        while generation < max_generation:\n",
    "            generation += 1\n",
    "            self.iterate()"
   ]
  },
  {
   "cell_type": "markdown",
   "metadata": {},
   "source": [
    "### Examples"
   ]
  },
  {
   "cell_type": "markdown",
   "metadata": {},
   "source": [
    "* 200 solutions\n",
    "* keep top 50 after each iteration\n",
    "* initial fi < 1000\n",
    "* 100 generations"
   ]
  },
  {
   "cell_type": "code",
   "execution_count": 4,
   "metadata": {},
   "outputs": [
    {
     "name": "stdout",
     "output_type": "stream",
     "text": [
      "score: -3893.547, f0: 7153.385 f1: 287.944 f2: 2948.017, sum=10389.345, f1 > f2? False, f0 ~ 84**2 = 7056, gen: 0\n",
      "score: 176.298, f0: 1524.573 f1: 4814.900 f2: 3578.158, sum=9917.630, f1 > f2? True, f0 ~ 39**2 = 1521, gen: 1\n",
      "score: 932.783, f0: 1600.221 f1: 4814.900 f2: 3578.158, sum=9993.278, f1 > f2? True, f0 ~ 40**2 = 1600, gen: 4\n",
      "score: 951.037, f0: 1600.221 f1: 4814.900 f2: 3579.983, sum=9995.104, f1 > f2? True, f0 ~ 40**2 = 1600, gen: 15\n",
      "score: 954.293, f0: 1609.687 f1: 4814.900 f2: 3579.983, sum=10004.570, f1 > f2? True, f0 ~ 40**2 = 1600, gen: 38\n",
      "score: 963.361, f0: 1601.453 f1: 4814.900 f2: 3579.983, sum=9996.336, f1 > f2? True, f0 ~ 40**2 = 1600, gen: 65\n",
      "score: 979.067, f0: 1607.210 f1: 4814.900 f2: 3579.983, sum=10002.093, f1 > f2? True, f0 ~ 40**2 = 1600, gen: 70\n",
      "score: 985.083, f0: 1606.608 f1: 4814.900 f2: 3579.983, sum=10001.491, f1 > f2? True, f0 ~ 40**2 = 1600, gen: 80\n",
      "score: 998.966, f0: 1606.608 f1: 4813.511 f2: 3579.983, sum=10000.103, f1 > f2? True, f0 ~ 40**2 = 1600, gen: 136\n",
      "score: 999.914, f0: 1606.498 f1: 4813.511 f2: 3579.983, sum=9999.992, f1 > f2? True, f0 ~ 40**2 = 1600, gen: 1903\n",
      "score: 999.949, f0: 1606.501 f1: 4813.511 f2: 3579.983, sum=9999.996, f1 > f2? True, f0 ~ 40**2 = 1600, gen: 7770\n"
     ]
    }
   ],
   "source": [
    "population = Population(20, 5, limit=10000)\n",
    "population.evolution(10000)"
   ]
  },
  {
   "cell_type": "code",
   "execution_count": 5,
   "metadata": {},
   "outputs": [
    {
     "name": "stdout",
     "output_type": "stream",
     "text": [
      "score: 503.742, f0: 7280.942 f1: 2613.881 f2: 154.797, sum=10049.620, f1 > f2? True, f0 ~ 85**2 = 7225, gen: 0\n",
      "score: 842.659, f0: 2124.145 f1: 5467.486 f2: 2424.102, sum=10015.733, f1 > f2? True, f0 ~ 46**2 = 2116, gen: 1\n",
      "score: 888.457, f0: 5822.916 f1: 3897.050 f2: 268.885, sum=9988.850, f1 > f2? True, f0 ~ 76**2 = 5776, gen: 2\n",
      "score: 897.374, f0: 2152.545 f1: 5433.612 f2: 2424.102, sum=10010.259, f1 > f2? True, f0 ~ 46**2 = 2116, gen: 5\n",
      "score: 927.775, f0: 2115.625 f1: 5467.486 f2: 2424.102, sum=10007.213, f1 > f2? True, f0 ~ 45**2 = 2025, gen: 9\n",
      "score: 980.013, f0: 5822.916 f1: 3897.050 f2: 278.040, sum=9998.006, f1 > f2? True, f0 ~ 76**2 = 5776, gen: 14\n",
      "score: 988.666, f0: 5822.916 f1: 3897.050 f2: 278.906, sum=9998.871, f1 > f2? True, f0 ~ 76**2 = 5776, gen: 19\n",
      "score: 991.734, f0: 5833.244 f1: 3897.050 f2: 268.885, sum=9999.179, f1 > f2? True, f0 ~ 76**2 = 5776, gen: 22\n",
      "score: 996.076, f0: 5822.916 f1: 3897.050 f2: 280.422, sum=10000.388, f1 > f2? True, f0 ~ 76**2 = 5776, gen: 29\n",
      "score: 996.546, f0: 5822.916 f1: 3897.003 f2: 280.422, sum=10000.341, f1 > f2? True, f0 ~ 76**2 = 5776, gen: 124\n",
      "score: 998.789, f0: 5822.691 f1: 3897.003 f2: 280.422, sum=10000.116, f1 > f2? True, f0 ~ 76**2 = 5776, gen: 229\n",
      "score: 999.291, f0: 5822.641 f1: 3897.003 f2: 280.422, sum=10000.066, f1 > f2? True, f0 ~ 76**2 = 5776, gen: 552\n",
      "score: 999.712, f0: 5822.599 f1: 3897.003 f2: 280.422, sum=10000.024, f1 > f2? True, f0 ~ 76**2 = 5776, gen: 787\n",
      "score: 999.876, f0: 5822.567 f1: 3897.003 f2: 280.422, sum=9999.992, f1 > f2? True, f0 ~ 76**2 = 5776, gen: 1261\n",
      "score: 999.904, f0: 5822.567 f1: 3897.003 f2: 280.435, sum=10000.005, f1 > f2? True, f0 ~ 76**2 = 5776, gen: 2755\n",
      "score: 999.924, f0: 5822.559 f1: 3897.003 f2: 280.435, sum=9999.997, f1 > f2? True, f0 ~ 76**2 = 5776, gen: 2809\n",
      "score: 999.940, f0: 5822.561 f1: 3897.003 f2: 280.435, sum=9999.999, f1 > f2? True, f0 ~ 76**2 = 5776, gen: 4221\n"
     ]
    }
   ],
   "source": [
    "population = Population(200, 50, limit=10000)\n",
    "population.evolution(10000)"
   ]
  },
  {
   "cell_type": "code",
   "execution_count": 6,
   "metadata": {
    "scrolled": false
   },
   "outputs": [
    {
     "name": "stdout",
     "output_type": "stream",
     "text": [
      "score: 980.360, f0: 479.139 f1: 5467.552 f2: 4051.348, sum=9998.040, f1 > f2? True, f0 ~ 21**2 = 441, gen: 0\n",
      "score: 993.534, f0: 486.534 f1: 8069.836 f2: 1442.983, sum=9999.354, f1 > f2? True, f0 ~ 22**2 = 484, gen: 7\n",
      "score: 996.927, f0: 480.796 f1: 5467.552 f2: 4051.348, sum=9999.697, f1 > f2? True, f0 ~ 21**2 = 441, gen: 8\n",
      "score: 998.679, f0: 481.228 f1: 5467.552 f2: 4051.348, sum=10000.128, f1 > f2? True, f0 ~ 21**2 = 441, gen: 11\n",
      "score: 999.898, f0: 481.093 f1: 5467.552 f2: 4051.348, sum=9999.994, f1 > f2? True, f0 ~ 21**2 = 441, gen: 12\n",
      "score: 999.953, f0: 481.099 f1: 5467.552 f2: 4051.348, sum=9999.999, f1 > f2? True, f0 ~ 21**2 = 441, gen: 578\n",
      "score: 999.954, f0: 481.100 f1: 5467.552 f2: 4051.348, sum=10000.001, f1 > f2? True, f0 ~ 21**2 = 441, gen: 2312\n",
      "score: 999.958, f0: 481.100 f1: 5467.552 f2: 4051.348, sum=10000.000, f1 > f2? True, f0 ~ 21**2 = 441, gen: 2921\n",
      "score: 999.958, f0: 481.100 f1: 5467.552 f2: 4051.348, sum=10000.000, f1 > f2? True, f0 ~ 21**2 = 441, gen: 4099\n"
     ]
    }
   ],
   "source": [
    "population = Population(1000, 200, limit=10000)\n",
    "population.evolution(10000)"
   ]
  },
  {
   "cell_type": "markdown",
   "metadata": {},
   "source": [
    "/!\\ Beware of demo effect /!\\ , change evaluation function before running."
   ]
  },
  {
   "cell_type": "code",
   "execution_count": 7,
   "metadata": {
    "scrolled": false
   },
   "outputs": [
    {
     "name": "stdout",
     "output_type": "stream",
     "text": [
      "score: 820.923, f0: 765.878 f1: 4836.687 f2: 4379.531, sum=9982.096, f1 > f2? True, f0 ~ 27**2 = 729, gen: 0\n",
      "score: 936.482, f0: 5624.773 f1: 2438.494 f2: 1930.396, sum=9993.663, f1 > f2? True, f0 ~ 74**2 = 5476, gen: 1\n",
      "score: 975.885, f0: 539.584 f1: 9435.989 f2: 22.017, sum=9997.590, f1 > f2? True, f0 ~ 23**2 = 529, gen: 3\n",
      "score: 980.737, f0: 761.442 f1: 7721.057 f2: 1519.424, sum=10001.923, f1 > f2? True, f0 ~ 27**2 = 729, gen: 4\n",
      "score: 996.210, f0: 4331.301 f1: 4290.612 f2: 1377.719, sum=9999.632, f1 > f2? True, f0 ~ 65**2 = 4225, gen: 5\n",
      "score: 997.678, f0: 817.078 f1: 7721.057 f2: 1462.094, sum=10000.229, f1 > f2? True, f0 ~ 28**2 = 784, gen: 13\n",
      "score: 999.689, f0: 816.821 f1: 7721.057 f2: 1462.094, sum=9999.972, f1 > f2? True, f0 ~ 28**2 = 784, gen: 23\n",
      "score: 999.873, f0: 816.858 f1: 7721.057 f2: 1462.094, sum=10000.009, f1 > f2? True, f0 ~ 28**2 = 784, gen: 68\n",
      "score: 999.954, f0: 816.850 f1: 7721.057 f2: 1462.094, sum=10000.001, f1 > f2? True, f0 ~ 28**2 = 784, gen: 156\n",
      "score: 999.958, f0: 816.850 f1: 7721.057 f2: 1462.094, sum=10000.001, f1 > f2? True, f0 ~ 28**2 = 784, gen: 3306\n",
      "score: 999.966, f0: 816.849 f1: 7721.057 f2: 1462.094, sum=10000.000, f1 > f2? True, f0 ~ 28**2 = 784, gen: 3513\n",
      "score: 999.966, f0: 816.849 f1: 7721.057 f2: 1462.094, sum=10000.000, f1 > f2? True, f0 ~ 28**2 = 784, gen: 6639\n"
     ]
    }
   ],
   "source": [
    "population = Population(1000, 200, limit=10000)\n",
    "population.evolution(10000)"
   ]
  },
  {
   "cell_type": "markdown",
   "metadata": {},
   "source": [
    "## Game\n",
    "\n",
    "Code Versus Zombies\n",
    "\n",
    "Coder Strike Back"
   ]
  },
  {
   "cell_type": "markdown",
   "metadata": {},
   "source": [
    "## Parameters\n",
    "\n",
    "* Evaluation function\n",
    "* Number of generations (exploitation) vs population size (exploration)\n",
    "* Reproduction strategies:\n",
    "    * cloning and mutation, mostly when the sequence is important\n",
    "    * cross breeding:\n",
    "        * choose parents randomly\n",
    "        * being a parent depend on score or rank\n",
    "        * ...\n",
    "    * ..."
   ]
  },
  {
   "cell_type": "markdown",
   "metadata": {},
   "source": [
    "## When is it useful\n",
    "\n",
    "* Easily generate random solutions\n",
    "* Test and evolve hyper parameters (this why is belongs to *meta heuristics*)\n",
    "* When a greedy search is too expensive\n",
    "* Since it's a last resort solution it will certainly be slow\n"
   ]
  },
  {
   "cell_type": "code",
   "execution_count": null,
   "metadata": {},
   "outputs": [],
   "source": []
  }
 ],
 "metadata": {
  "kernelspec": {
   "display_name": "Python 3",
   "language": "python",
   "name": "python3"
  },
  "language_info": {
   "codemirror_mode": {
    "name": "ipython",
    "version": 3
   },
   "file_extension": ".py",
   "mimetype": "text/x-python",
   "name": "python",
   "nbconvert_exporter": "python",
   "pygments_lexer": "ipython3",
   "version": "3.6.6"
  }
 },
 "nbformat": 4,
 "nbformat_minor": 2
}
