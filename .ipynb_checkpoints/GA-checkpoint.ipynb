{
 "cells": [
  {
   "cell_type": "code",
   "execution_count": 1,
   "metadata": {},
   "outputs": [],
   "source": [
    "%load_ext autoreload\n",
    "%autoreload 2"
   ]
  },
  {
   "cell_type": "code",
   "execution_count": 2,
   "metadata": {},
   "outputs": [],
   "source": [
    "from ga import Solution, Population"
   ]
  },
  {
   "cell_type": "markdown",
   "metadata": {},
   "source": [
    "# Genetic Algorithm, applied to game AI"
   ]
  },
  {
   "cell_type": "markdown",
   "metadata": {},
   "source": [
    "## Genetic Algorithm (GA)"
   ]
  },
  {
   "cell_type": "markdown",
   "metadata": {},
   "source": [
    "### A Hello World"
   ]
  },
  {
   "cell_type": "markdown",
   "metadata": {},
   "source": [
    "Dummy problem:\n",
    "* Find 3 float: f0, f1, f2 (all > 0)\n",
    "* f0 + f1 + f2 has to be close to 10,000\n",
    "* f1 > f2\n",
    "* f0 has to be close to the square value of an integer and greater than the square value"
   ]
  },
  {
   "cell_type": "markdown",
   "metadata": {},
   "source": [
    "Inspired from natural evolution:\n",
    "* A solution = set of genes"
   ]
  },
  {
   "cell_type": "code",
   "execution_count": null,
   "metadata": {},
   "outputs": [],
   "source": [
    "class Solution:\n",
    "    def __init__(self, limit=10000):\n",
    "        self.f0 = random() * limit\n",
    "        self.f1 = random() * limit\n",
    "        self.f2 = random() * limit\n",
    "        self.generation = 0\n",
    "        self.score = None"
   ]
  },
  {
   "cell_type": "markdown",
   "metadata": {},
   "source": [
    "* Evaluate how fit is the solution to the problem"
   ]
  },
  {
   "cell_type": "code",
   "execution_count": null,
   "metadata": {},
   "outputs": [],
   "source": [
    "    def evaluate(self):\n",
    "        s = self.f0 + self.f1 + self.f2                 # f0 + f1 + f2 has to be close to 10,000\n",
    "        delta = self.f1 - self.f2                       # f1 > f2\n",
    "        delta_square = self.f0 - int(sqrt(self.f0))**2  # eg: f0 = 95, int(sqrt(f0))~ int(9.7) = 9, 95-9x9 = 14 \n",
    "        \n",
    "        score = - abs(10000 - s) * 10      # has to be close to 0\n",
    "        score += 1000 if delta > 0 else 0  # bonus if f1 > f2\n",
    "        score += - delta_square / 1000     # has to be close to 0, but not super important\n",
    "        \n",
    "        self.score = score"
   ]
  },
  {
   "cell_type": "markdown",
   "metadata": {},
   "source": [
    "* Keep the best ones (survival of the fittest)\n",
    "* Recreate a full population from the best solutions:\n",
    "    * Clone and mutate a solution\n",
    "    "
   ]
  },
  {
   "cell_type": "code",
   "execution_count": null,
   "metadata": {},
   "outputs": [],
   "source": [
    "    def clone_and_mutate(self, generation):\n",
    "        new_solution = Solution()\n",
    "        new_solution.f0 = self.f0\n",
    "        new_solution.f1 = self.f1\n",
    "        new_solution.f2 = self.f2\n",
    "        \n",
    "        random_index = randint(0,2)\n",
    "        if random_index == 0:\n",
    "            new_solution.f0 = normal(new_solution.f0, new_solution.f0 * 0.2)\n",
    "        elif random_index == 1:\n",
    "            new_solution.f1 = random()*10000\n",
    "        else:\n",
    "            new_solution.f2 += max(0, random() * 1000 - 500)\n",
    "        \n",
    "        new_solution.generation = generation\n",
    "        \n",
    "        return new_solution"
   ]
  },
  {
   "cell_type": "markdown",
   "metadata": {},
   "source": [
    "    * Cross breed 2 solutions"
   ]
  },
  {
   "cell_type": "code",
   "execution_count": null,
   "metadata": {},
   "outputs": [],
   "source": [
    "    def cross(self, another_solution, generation):\n",
    "        new_solution = Solution()\n",
    "        new_solution.f0 = self.f0              # f0 from first parent\n",
    "        new_solution.f1 = another_solution.f1  # f1 and f2 from second parent\n",
    "        new_solution.f2 = another_solution.f2\n",
    "        \n",
    "        new_solution.generation = generation\n",
    "        \n",
    "        return new_solution"
   ]
  },
  {
   "cell_type": "markdown",
   "metadata": {},
   "source": [
    "Test:"
   ]
  },
  {
   "cell_type": "code",
   "execution_count": 4,
   "metadata": {
    "scrolled": true
   },
   "outputs": [
    {
     "name": "stdout",
     "output_type": "stream",
     "text": [
      "score: NA, f0: 78.644 f1: 55.401 f2: 92.010, sum=226.055, f1 > f2? False, f0 ~ 8**2 = 64, gen: 0\n"
     ]
    }
   ],
   "source": [
    "s0 = Solution(limit=100)\n",
    "s0.print()\n",
    "s0.evaluate()"
   ]
  },
  {
   "cell_type": "markdown",
   "metadata": {},
   "source": [
    "* Generate a population of solutions for the problem"
   ]
  },
  {
   "cell_type": "code",
   "execution_count": 136,
   "metadata": {},
   "outputs": [],
   "source": [
    "class Population:\n",
    "    def __init__(self, n_solutions, n_keep_best, limit=10000):\n",
    "        self.n_solutions = n_solutions\n",
    "        self.n_keep_best = n_keep_best\n",
    "        \n",
    "        self.solutions = [Solution(limit=limit) for i in range(self.n_solutions)]\n",
    "        self.generations = 0        "
   ]
  },
  {
   "cell_type": "markdown",
   "metadata": {},
   "source": [
    "* Iterate once:"
   ]
  },
  {
   "cell_type": "code",
   "execution_count": null,
   "metadata": {},
   "outputs": [],
   "source": [
    "    def iterate(self):\n",
    "        self.generations += 1\n",
    "        \n",
    "        # EVALUTATE\n",
    "        for solution in self.solutions:\n",
    "            solution.evaluate()\n",
    "            \n",
    "        # KEEP BEST\n",
    "        self.solutions.sort(key=lambda x: x.score, reverse=True)\n",
    "        self.solutions = self.solutions[:self.n_keep_best]\n",
    "\n",
    "        # print the new best solution if any\n",
    "        if self.solutions[0].generation == self.generations-1:\n",
    "            self.solutions[0].print()\n",
    "        \n",
    "        # REPRODUCTION\n",
    "        # one mutant clone of each best solution\n",
    "        self.solutions.extend([solution.clone_and_mutate(self.generations) for solution in self.solutions])\n",
    "        # crossing, uniform random parents selection\n",
    "        while len(self.solutions) < self.n_solutions:\n",
    "            first_parent_index = randint(0, self.n_keep_best-1)\n",
    "            second_parent_index = randint(0, self.n_keep_best-1)\n",
    "            while first_parent_index == second_parent_index:\n",
    "                second_parent_index = randint(0, self.n_keep_best-1)\n",
    "                \n",
    "            self.solutions.append(\n",
    "                self.solutions[first_parent_index].cross(\n",
    "                    self.solutions[second_parent_index], self.generations)\n",
    "            )"
   ]
  },
  {
   "cell_type": "markdown",
   "metadata": {},
   "source": [
    "* Rinse and repeat:"
   ]
  },
  {
   "cell_type": "code",
   "execution_count": null,
   "metadata": {},
   "outputs": [],
   "source": [
    "    def evolution(self, max_generation):\n",
    "        generation = 0\n",
    "        while generation < max_generation:\n",
    "            generation += 1\n",
    "            self.iterate()"
   ]
  },
  {
   "cell_type": "markdown",
   "metadata": {},
   "source": [
    "### Examples"
   ]
  },
  {
   "cell_type": "markdown",
   "metadata": {},
   "source": [
    "* 200 solutions\n",
    "* keep top 50 after each iteration\n",
    "* initial fi < 1000\n",
    "* 100 generations"
   ]
  },
  {
   "cell_type": "code",
   "execution_count": 3,
   "metadata": {},
   "outputs": [
    {
     "name": "stdout",
     "output_type": "stream",
     "text": [
      "score: -71553.328, f0: 978.333 f1: 957.672 f2: 808.664, sum=2744.669, f1 > f2? True, f0 ~ 31**2 = 961, gen: 0\n",
      "score: -3688.176, f0: 959.527 f1: 7835.655 f2: 736.007, sum=9531.188, f1 > f2? True, f0 ~ 30**2 = 900, gen: 1\n",
      "score: 896.057, f0: 959.527 f1: 7835.655 f2: 1194.430, sum=9989.612, f1 > f2? True, f0 ~ 30**2 = 900, gen: 2\n",
      "score: 975.732, f0: 982.725 f1: 7562.024 f2: 1452.826, sum=9997.575, f1 > f2? True, f0 ~ 31**2 = 961, gen: 5\n",
      "score: 994.552, f0: 1027.186 f1: 8322.752 f2: 649.517, sum=9999.455, f1 > f2? True, f0 ~ 32**2 = 1024, gen: 6\n",
      "score: 998.000, f0: 1027.531 f1: 8322.752 f2: 649.517, sum=9999.800, f1 > f2? True, f0 ~ 32**2 = 1024, gen: 24\n",
      "score: 999.127, f0: 1027.818 f1: 8322.752 f2: 649.517, sum=10000.087, f1 > f2? True, f0 ~ 32**2 = 1024, gen: 150\n",
      "score: 999.396, f0: 1027.671 f1: 8322.752 f2: 649.517, sum=9999.940, f1 > f2? True, f0 ~ 32**2 = 1024, gen: 166\n",
      "score: 999.873, f0: 1027.719 f1: 8322.752 f2: 649.517, sum=9999.988, f1 > f2? True, f0 ~ 32**2 = 1024, gen: 680\n",
      "score: 999.896, f0: 1027.741 f1: 8322.752 f2: 649.517, sum=10000.010, f1 > f2? True, f0 ~ 32**2 = 1024, gen: 695\n",
      "score: 999.930, f0: 1027.724 f1: 8322.752 f2: 649.517, sum=9999.993, f1 > f2? True, f0 ~ 32**2 = 1024, gen: 2496\n",
      "score: 999.988, f0: 1027.724 f1: 8322.752 f2: 649.525, sum=10000.001, f1 > f2? True, f0 ~ 32**2 = 1024, gen: 3763\n",
      "score: 999.994, f0: 1027.724 f1: 8322.751 f2: 649.525, sum=10000.000, f1 > f2? True, f0 ~ 32**2 = 1024, gen: 4028\n"
     ]
    }
   ],
   "source": [
    "population = Population(200, 50, limit=1000)\n",
    "population.evolution(10000)"
   ]
  },
  {
   "cell_type": "code",
   "execution_count": null,
   "metadata": {
    "scrolled": true
   },
   "outputs": [
    {
     "name": "stdout",
     "output_type": "stream",
     "text": [
      "score: 958.476, f0: 3629.687 f1: 3441.911 f2: 2932.552, sum=10004.149, f1 > f2? True, f0 ~ 60**2 = 3600, gen: 0\n",
      "score: 975.372, f0: 977.502 f1: 6801.846 f2: 2223.114, sum=10002.461, f1 > f2? True, f0 ~ 31**2 = 961, gen: 3\n",
      "score: 982.196, f0: 976.820 f1: 6801.846 f2: 2223.114, sum=10001.779, f1 > f2? True, f0 ~ 31**2 = 961, gen: 4\n",
      "score: 992.188, f0: 871.446 f1: 5387.239 f2: 3742.094, sum=10000.778, f1 > f2? True, f0 ~ 29**2 = 841, gen: 7\n",
      "score: 998.133, f0: 827.747 f1: 6765.608 f2: 2406.827, sum=10000.182, f1 > f2? True, f0 ~ 28**2 = 784, gen: 15\n",
      "score: 999.588, f0: 827.528 f1: 6765.608 f2: 2406.827, sum=9999.963, f1 > f2? True, f0 ~ 28**2 = 784, gen: 50\n",
      "score: 999.799, f0: 827.549 f1: 6765.608 f2: 2406.827, sum=9999.984, f1 > f2? True, f0 ~ 28**2 = 784, gen: 168\n",
      "score: 999.813, f0: 827.579 f1: 6765.608 f2: 2406.827, sum=10000.014, f1 > f2? True, f0 ~ 28**2 = 784, gen: 340\n",
      "score: 999.940, f0: 827.566 f1: 6765.608 f2: 2406.827, sum=10000.002, f1 > f2? True, f0 ~ 28**2 = 784, gen: 429\n",
      "score: 999.942, f0: 827.566 f1: 6765.608 f2: 2406.827, sum=10000.001, f1 > f2? True, f0 ~ 28**2 = 784, gen: 1585\n"
     ]
    }
   ],
   "source": [
    "population = Population(1000, 200, limit=10000)\n",
    "population.evolution(10000)"
   ]
  },
  {
   "cell_type": "markdown",
   "metadata": {},
   "source": [
    "/!\\ Beware of demo effect /!\\ , change evaluation function before running."
   ]
  },
  {
   "cell_type": "code",
   "execution_count": 7,
   "metadata": {
    "scrolled": true
   },
   "outputs": [
    {
     "name": "stdout",
     "output_type": "stream",
     "text": [
      "score: 488.048, f0: 8947.134 f1: 730.869 f2: 373.182, sum=10051.184, f1 > f2? True, f0 ~ 94**2 = 8836, gen: 0\n",
      "score: 975.560, f0: 1669.420 f1: 7243.583 f2: 1089.435, sum=10002.437, f1 > f2? True, f0 ~ 40**2 = 1600, gen: 1\n",
      "score: 981.106, f0: 719.032 f1: 6782.745 f2: 2496.339, sum=9998.115, f1 > f2? True, f0 ~ 26**2 = 676, gen: 4\n",
      "score: 997.483, f0: 919.492 f1: 7583.457 f2: 1497.301, sum=10000.250, f1 > f2? True, f0 ~ 30**2 = 900, gen: 7\n",
      "score: 997.976, f0: 2521.339 f1: 5042.535 f2: 2435.926, sum=9999.800, f1 > f2? True, f0 ~ 50**2 = 2500, gen: 8\n",
      "score: 999.633, f0: 2521.339 f1: 5042.770 f2: 2435.926, sum=10000.035, f1 > f2? True, f0 ~ 50**2 = 2500, gen: 23\n",
      "score: 999.978, f0: 2521.304 f1: 5042.770 f2: 2435.926, sum=10000.000, f1 > f2? True, f0 ~ 50**2 = 2500, gen: 84\n"
     ]
    }
   ],
   "source": [
    "population = Population(1000, 200, limit=10000)\n",
    "population.evolution(10000)"
   ]
  },
  {
   "cell_type": "markdown",
   "metadata": {},
   "source": [
    "## Game\n",
    "\n",
    "link to CSB"
   ]
  },
  {
   "cell_type": "markdown",
   "metadata": {},
   "source": [
    "## Parameters\n",
    "\n",
    "* Evaluation function\n",
    "* Number of generations (exploitation) vs population size (exploration)\n",
    "* Reproduction strategies:\n",
    "    * cloning and mutation, mostly when the sequence is important\n",
    "    * cross breeding:\n",
    "        * choose parents randomly\n",
    "        * being a parent depend on score or rank\n",
    "        * ...\n",
    "    * ..."
   ]
  },
  {
   "cell_type": "markdown",
   "metadata": {},
   "source": [
    "## When is it useful\n",
    "\n",
    "* Easily generate random solutions\n",
    "* Test and evolve hyper parameters (this why is belongs to *meta heuristics*)\n",
    "* When a greedy search is too expensive\n",
    "* Since it's a last resort solution it will certainly be slow\n"
   ]
  },
  {
   "cell_type": "code",
   "execution_count": null,
   "metadata": {},
   "outputs": [],
   "source": []
  }
 ],
 "metadata": {
  "kernelspec": {
   "display_name": "Python 3",
   "language": "python",
   "name": "python3"
  },
  "language_info": {
   "codemirror_mode": {
    "name": "ipython",
    "version": 3
   },
   "file_extension": ".py",
   "mimetype": "text/x-python",
   "name": "python",
   "nbconvert_exporter": "python",
   "pygments_lexer": "ipython3",
   "version": "3.6.6"
  }
 },
 "nbformat": 4,
 "nbformat_minor": 2
}
